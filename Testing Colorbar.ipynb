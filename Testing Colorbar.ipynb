{
 "cells": [
  {
   "cell_type": "markdown",
   "metadata": {},
   "source": [
    "# Colorbar Code\n",
    "This is the code that creates a colorbar plot of the plotted flux variability analysis from gapfilled solutions. The colorbar is made using MatPlotLib and the points are color code based on the density of points at that spot or in the near vicinity. The colorbar colors are a little off but the point is made pretty clearly."
   ]
  },
  {
   "cell_type": "code",
   "execution_count": 1,
   "metadata": {},
   "outputs": [
    {
     "name": "stdout",
     "output_type": "stream",
     "text": [
      "unknown metabolite 'cpd16380_c0' created\n",
      "unknown metabolite 'cpd16381_c0' created\n",
      "unknown metabolite 'cpd00914_c0' created\n",
      "unknown metabolite 'cpd00934_c0' created\n",
      "unknown metabolite 'cpd00105_c0' created\n",
      "unknown metabolite 'cpd00294_c0' created\n",
      "unknown metabolite 'cpd00157_c0' created\n",
      "unknown metabolite 'cpd15877_c0' created\n",
      "unknown metabolite 'cpd15876_c0' created\n",
      "unknown metabolite 'cpd00249_c0' created\n",
      "unknown metabolite 'cpd11712_c0' created\n",
      "unknown metabolite 'cpd12508_c0' created\n",
      "unknown metabolite 'cpd00082_c0' created\n",
      "unknown metabolite 'cpd00007_c0' created\n",
      "unknown metabolite 'cpd00173_c0' created\n",
      "unknown metabolite 'cpd00354_c0' created\n",
      "unknown metabolite 'cpd00007_c0' created\n",
      "unknown metabolite 'cpd02612_c0' created\n",
      "unknown metabolite 'cpd00048_c0' created\n",
      "unknown metabolite 'cpd00193_c0' created\n",
      "unknown metabolite 'cpd11594_c0' created\n",
      "unknown metabolite 'cpd12713_c0' created\n",
      "unknown metabolite 'cpd00190_c0' created\n",
      "unknown metabolite 'cpd00082_c0' created\n"
     ]
    }
   ],
   "source": [
    "import mpld3\n",
    "from cobra.io.sbml import create_cobra_model_from_sbml_file\n",
    "from cobra import Reaction, flux_analysis, Model\n",
    "import pickle\n",
    "import re\n",
    "import matplotlib.pyplot as plt\n",
    "import numpy as np\n",
    "import operator\n",
    "\n",
    "model = create_cobra_model_from_sbml_file('Models'+'/2016_06_23_gapped_meoh_producing.xml')\n",
    "\n",
    "rxn_list = pickle.load(open('Text Files'+'/rxn_dict.p', 'rb'))\n",
    "fva_result_dict = {}\n",
    "fva_result_dict_testing = {}\n",
    "atps_list = {}\n",
    "other_mechanism = {}\n",
    "# Wide range of ATP Synthase flux values can be positive or negative\n",
    "category_1_dict = {}\n",
    "# ATP Synthase flux can only be negative\n",
    "category_2_dict = {}\n",
    "# ATP Synthase flux can only be positive\n",
    "category_3_dict = {}\n",
    "\n",
    "for run in rxn_list.keys():\n",
    "    model_test = model.copy()\n",
    "    fva_list = [model_test.reactions.ATPS]\n",
    "    for rxn in rxn_list[run]:\n",
    "        addID = re.search('(rxn\\d{5}_reverse)|(rxn\\d{5})', rxn).group(0)\n",
    "        formula = re.search('(cpd\\d{5}.*$)|(\\d+.\\d+\\scpd\\d{5}.*$)', rxn).group(0)\n",
    "        rxn = Reaction(addID)\n",
    "        model_test.add_reaction(rxn)\n",
    "        rxn.reaction = formula\n",
    "        fva_list.append(rxn)\n",
    "\n",
    "    model_fba_test = model_test.copy()\n",
    "    model_fba_test.optimize()\n",
    "    fva_result = flux_analysis.flux_variability_analysis(model_test, fva_list)\n",
    "    fva_result_dict[run] = fva_result\n",
    "    fva_result_dict_testing[run] = fva_result, fva_list\n",
    "\n",
    "atp_min = {}\n",
    "atp_max = {}\n",
    "\n",
    "for run in fva_result_dict:\n",
    "    atp_min[run] = round(fva_result_dict[run]['ATPS']['minimum'])\n",
    "    atp_max[run] = round(fva_result_dict[run]['ATPS']['maximum'])\n",
    "\n",
    "\n",
    "x = atp_max.values()\n",
    "y = atp_min.values()\n",
    "\n",
    "\n",
    "s = []\n",
    "for x in atp_max.values():\n",
    "    indices = [i for i, y in enumerate(atp_max.values()) if y == x]\n",
    "    s.append(len(indices))\n",
    "    \n",
    "\n",
    "\n",
    "fig = plt.figure()\n",
    "cm = plt.cm.get_cmap('RdYlBu')\n",
    "plt.grid(which='major', axis='both')\n",
    "plt.title(\"ATP Synthase Scatter Plot\", size=20)\n",
    "plt.xlabel('ATP Synthase FVA Max Flux')\n",
    "plt.ylabel('ATP Synthase FVA Min Flux')\n",
    "scatter = plt.scatter(atp_max.values(),\n",
    "                     atp_min.values(),\n",
    "                     c=s,\n",
    "                     s=250,\n",
    "                     alpha=0.3,\n",
    "                     cmap=plt.cm.jet)\n",
    "cbar = fig.colorbar(scatter)\n",
    "plt.savefig('HeatMapATPSynthase.pdf')"
   ]
  },
  {
   "cell_type": "code",
   "execution_count": null,
   "metadata": {},
   "outputs": [],
   "source": [
    ""
   ]
  },
  {
   "cell_type": "markdown",
   "metadata": {},
   "source": [
    " This colorbar works but the colors are a bit off. They seem to be a little lighter than the actual colors that are displayed on the graph"
   ]
  },
  {
   "cell_type": "code",
   "execution_count": null,
   "metadata": {},
   "outputs": [],
   "source": [
    ""
   ]
  },
  {
   "cell_type": "code",
   "execution_count": null,
   "metadata": {},
   "outputs": [],
   "source": [
    ""
   ]
  },
  {
   "cell_type": "code",
   "execution_count": null,
   "metadata": {},
   "outputs": [],
   "source": [
    ""
   ]
  }
 ],
 "metadata": {
  "kernelspec": {
   "display_name": "Python 2",
   "language": "python",
   "name": "python2"
  },
  "language_info": {
   "codemirror_mode": {
    "name": "ipython",
    "version": 2.0
   },
   "file_extension": ".py",
   "mimetype": "text/x-python",
   "name": "python",
   "nbconvert_exporter": "python",
   "pygments_lexer": "ipython2",
   "version": "2.7.11"
  }
 },
 "nbformat": 4,
 "nbformat_minor": 0
}